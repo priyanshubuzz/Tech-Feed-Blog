{
 "cells": [
  {
   "cell_type": "code",
   "execution_count": 1,
   "metadata": {},
   "outputs": [
    {
     "ename": "OperationalError",
     "evalue": "FATAL:  password authentication failed for user \"postgres\"\n",
     "output_type": "error",
     "traceback": [
      "\u001b[1;31m---------------------------------------------------------------------------\u001b[0m",
      "\u001b[1;31mOperationalError\u001b[0m                          Traceback (most recent call last)",
      "\u001b[1;32m<ipython-input-1-3bb9dba6a94c>\u001b[0m in \u001b[0;36m<module>\u001b[1;34m\u001b[0m\n\u001b[0;32m     59\u001b[0m     \u001b[0murl_end\u001b[0m \u001b[1;33m=\u001b[0m \u001b[0mstyle_attr\u001b[0m\u001b[1;33m.\u001b[0m\u001b[0mindex\u001b[0m\u001b[1;33m(\u001b[0m\u001b[1;34m\")\"\u001b[0m\u001b[1;33m)\u001b[0m\u001b[1;33m\u001b[0m\u001b[1;33m\u001b[0m\u001b[0m\n\u001b[0;32m     60\u001b[0m     \u001b[0mimg\u001b[0m \u001b[1;33m=\u001b[0m \u001b[0mstyle_attr\u001b[0m\u001b[1;33m[\u001b[0m\u001b[0murl_start\u001b[0m \u001b[1;33m:\u001b[0m \u001b[0murl_end\u001b[0m\u001b[1;33m]\u001b[0m \u001b[1;31m#Finally Image URL\u001b[0m\u001b[1;33m\u001b[0m\u001b[1;33m\u001b[0m\u001b[0m\n\u001b[1;32m---> 61\u001b[1;33m     \u001b[0mconnection\u001b[0m\u001b[1;33m(\u001b[0m\u001b[1;33m)\u001b[0m\u001b[1;33m\u001b[0m\u001b[1;33m\u001b[0m\u001b[0m\n\u001b[0m\u001b[0;32m     62\u001b[0m     \u001b[0mall_article\u001b[0m \u001b[1;33m=\u001b[0m \u001b[1;33m[\u001b[0m\u001b[0mi\u001b[0m\u001b[1;33m[\u001b[0m\u001b[1;36m0\u001b[0m\u001b[1;33m]\u001b[0m \u001b[1;32mfor\u001b[0m \u001b[0mi\u001b[0m \u001b[1;32min\u001b[0m \u001b[0mall_data\u001b[0m\u001b[1;33m(\u001b[0m\u001b[1;33m)\u001b[0m\u001b[1;33m[\u001b[0m\u001b[1;36m0\u001b[0m\u001b[1;33m]\u001b[0m\u001b[1;33m]\u001b[0m\u001b[1;33m\u001b[0m\u001b[1;33m\u001b[0m\u001b[0m\n\u001b[0;32m     63\u001b[0m     \u001b[0mall_img\u001b[0m \u001b[1;33m=\u001b[0m \u001b[1;33m[\u001b[0m\u001b[0mi\u001b[0m\u001b[1;33m[\u001b[0m\u001b[1;36m0\u001b[0m\u001b[1;33m]\u001b[0m \u001b[1;32mfor\u001b[0m \u001b[0mi\u001b[0m \u001b[1;32min\u001b[0m \u001b[0mall_data\u001b[0m\u001b[1;33m(\u001b[0m\u001b[1;33m)\u001b[0m\u001b[1;33m[\u001b[0m\u001b[1;36m1\u001b[0m\u001b[1;33m]\u001b[0m\u001b[1;33m]\u001b[0m\u001b[1;33m\u001b[0m\u001b[1;33m\u001b[0m\u001b[0m\n",
      "\u001b[1;32m<ipython-input-1-3bb9dba6a94c>\u001b[0m in \u001b[0;36mconnection\u001b[1;34m()\u001b[0m\n\u001b[0;32m      9\u001b[0m \u001b[1;33m\u001b[0m\u001b[0m\n\u001b[0;32m     10\u001b[0m \u001b[1;32mdef\u001b[0m \u001b[0mconnection\u001b[0m\u001b[1;33m(\u001b[0m\u001b[1;33m)\u001b[0m\u001b[1;33m:\u001b[0m\u001b[1;33m\u001b[0m\u001b[1;33m\u001b[0m\u001b[0m\n\u001b[1;32m---> 11\u001b[1;33m     conn = psycopg2.connect(\n\u001b[0m\u001b[0;32m     12\u001b[0m         \u001b[0mdbname\u001b[0m \u001b[1;33m=\u001b[0m \u001b[1;34m\"Tech Feed\"\u001b[0m\u001b[1;33m,\u001b[0m\u001b[1;33m\u001b[0m\u001b[1;33m\u001b[0m\u001b[0m\n\u001b[0;32m     13\u001b[0m         \u001b[0muser\u001b[0m \u001b[1;33m=\u001b[0m \u001b[1;34m\"postgres\"\u001b[0m\u001b[1;33m,\u001b[0m\u001b[1;33m\u001b[0m\u001b[1;33m\u001b[0m\u001b[0m\n",
      "\u001b[1;32mc:\\python38\\lib\\site-packages\\psycopg2\\__init__.py\u001b[0m in \u001b[0;36mconnect\u001b[1;34m(dsn, connection_factory, cursor_factory, **kwargs)\u001b[0m\n\u001b[0;32m    125\u001b[0m \u001b[1;33m\u001b[0m\u001b[0m\n\u001b[0;32m    126\u001b[0m     \u001b[0mdsn\u001b[0m \u001b[1;33m=\u001b[0m \u001b[0m_ext\u001b[0m\u001b[1;33m.\u001b[0m\u001b[0mmake_dsn\u001b[0m\u001b[1;33m(\u001b[0m\u001b[0mdsn\u001b[0m\u001b[1;33m,\u001b[0m \u001b[1;33m**\u001b[0m\u001b[0mkwargs\u001b[0m\u001b[1;33m)\u001b[0m\u001b[1;33m\u001b[0m\u001b[1;33m\u001b[0m\u001b[0m\n\u001b[1;32m--> 127\u001b[1;33m     \u001b[0mconn\u001b[0m \u001b[1;33m=\u001b[0m \u001b[0m_connect\u001b[0m\u001b[1;33m(\u001b[0m\u001b[0mdsn\u001b[0m\u001b[1;33m,\u001b[0m \u001b[0mconnection_factory\u001b[0m\u001b[1;33m=\u001b[0m\u001b[0mconnection_factory\u001b[0m\u001b[1;33m,\u001b[0m \u001b[1;33m**\u001b[0m\u001b[0mkwasync\u001b[0m\u001b[1;33m)\u001b[0m\u001b[1;33m\u001b[0m\u001b[1;33m\u001b[0m\u001b[0m\n\u001b[0m\u001b[0;32m    128\u001b[0m     \u001b[1;32mif\u001b[0m \u001b[0mcursor_factory\u001b[0m \u001b[1;32mis\u001b[0m \u001b[1;32mnot\u001b[0m \u001b[1;32mNone\u001b[0m\u001b[1;33m:\u001b[0m\u001b[1;33m\u001b[0m\u001b[1;33m\u001b[0m\u001b[0m\n\u001b[0;32m    129\u001b[0m         \u001b[0mconn\u001b[0m\u001b[1;33m.\u001b[0m\u001b[0mcursor_factory\u001b[0m \u001b[1;33m=\u001b[0m \u001b[0mcursor_factory\u001b[0m\u001b[1;33m\u001b[0m\u001b[1;33m\u001b[0m\u001b[0m\n",
      "\u001b[1;31mOperationalError\u001b[0m: FATAL:  password authentication failed for user \"postgres\"\n"
     ]
    }
   ],
   "source": [
    "from bs4 import BeautifulSoup\n",
    "import requests\n",
    "import psycopg2\n",
    "\n",
    "r = requests.get(\"https://www.reddit.com/r/TechNewsToday/\", \n",
    "                 headers={'User-agent': 'Mozilla/5.0 (X11; Ubuntu; Linux x86_64; rv:61.0) Gecko/20100101 Firefox/61.0'})\n",
    "\n",
    "soup = BeautifulSoup(r.content, \"html.parser\")\n",
    "\n",
    "def connection():\n",
    "    conn = psycopg2.connect(\n",
    "        dbname = \"Tech Feed\",\n",
    "        user = \"postgres\",\n",
    "        password = \"aravthedm10\",\n",
    "        host = \"localhost\"\n",
    "    )\n",
    "    cur = conn.cursor()\n",
    "    cur.execute(\"CREATE TABLE IF NOT EXISTS article_data(article TEXT, image TEXT)\")\n",
    "    conn.commit()\n",
    "    conn.close()\n",
    "\n",
    "def add_content(article, img):\n",
    "    conn = psycopg2.connect(\n",
    "        dbname = \"Tech Feed\",\n",
    "        user = \"postgres\",\n",
    "        password = \"aravthedm10\",\n",
    "        host = \"localhost\"\n",
    "    )\n",
    "    cur = conn.cursor()\n",
    "    cur.execute(\"INSERT INTO article_data(article, image) VALUES(%s, %s)\", (article, img))\n",
    "    conn.commit()\n",
    "    conn.close()\n",
    "\n",
    "def all_data():\n",
    "    conn = psycopg2.connect(\n",
    "        dbname = \"Tech Feed\",\n",
    "        user = \"postgres\",\n",
    "        password = \"aravthedm10\",\n",
    "        host = \"localhost\"\n",
    "    )\n",
    "    cur = conn.cursor()\n",
    "    cur.execute(\"Select article FROM article_data\")\n",
    "    all_article = cur.fetchall()\n",
    "    cur.execute(\"Select image FROM article_data\")\n",
    "    all_img = cur.fetchall()\n",
    "    conn.close() \n",
    "    all_data = all_article, all_img\n",
    "    return all_data\n",
    "\n",
    "#Scrapping Part and adding data to db using functions\n",
    "article_div = soup.find_all(\"article\" , {\"class\" : \"yn9v_hQEhjlRNZI0xspbA\"})\n",
    "\n",
    "for i in article_div:\n",
    "    article = i.find(\"h3\", {\"class\" : \"_eYtD2XCVieq6emjKBH3m\"}).text #Article\n",
    "    #Extracting Image url out of a weird Div style attribute\n",
    "    img_div = i.find(\"div\", {\"class\" : \"_2c1ElNxHftd8W_nZtcG9zf _33Pa96SGhFVpZeI6a7Y_Pl\"})\n",
    "    style_attr = img_div.get(\"style\")\n",
    "    url_start = style_attr.index(\"(\") + 1\n",
    "    url_end = style_attr.index(\")\")\n",
    "    img = style_attr[url_start : url_end] #Finally Image URL\n",
    "    connection()\n",
    "    all_article = [i[0] for i in all_data()[0]]\n",
    "    all_img = [i[0] for i in all_data()[1]]\n",
    "    #checking if content exists already or not, if not then add\n",
    "    if article not in all_article and img not in all_img:\n",
    "        add_content(article, img) #adding content to db"
   ]
  },
  {
   "cell_type": "code",
   "execution_count": 11,
   "metadata": {},
   "outputs": [
    {
     "data": {
      "text/plain": [
       "([('Cybereason uncovers North Korean malware used against companies around the world',),\n",
       "  ('Tesla hit with $14M fine over German battery recycling bungle',),\n",
       "  ('South Park creators have a new political satire series with some of the best AI-generated deepfakes on the internet yet',),\n",
       "  ('Raspberry Pi 400: the $70 KEYBOARD PC',),\n",
       "  ('How the scary tool of 21st century propaganda could be put to good use? A Stanford University AI lab has created some of the most powerful and controversial video manipulation and analysis technology ever imagined',),\n",
       "  ('Government revive push to make apps like WhatsApp and iMessage weaken protections so they can read messages',),\n",
       "  (\"Facebook reportedly measures 'violence and incitement trends' — and it spiked by 45% during the week of the election\",),\n",
       "  ('Know Kerala is ready to become home to the world’s largest elephant care-and-cure facility | Pathik',),\n",
       "  ('US election: Bannon Twitter account banned amid clampdown',),\n",
       "  ('‘MeowTalk,’ an app that translates cat sounds, is a pet project for this former Alexa engineer',),\n",
       "  (\"'Robot soldiers could make up quarter of British army by 2030s' A drone army is getting closer\",),\n",
       "  ('Harley-Davidson’s new electric bikes look incredible — but they won’t be cheap',),\n",
       "  ('Malware activity spikes 128% in Q3',),\n",
       "  ('Laser-Guided Lightning May Help Prevent Wildfires',),\n",
       "  ('Green Hydrogen: Could It Be Key to a Carbon-Free Economy?',)],\n",
       " [('https://b.thumbs.redditmedia.com/xDl8XsGs4qoecD2XTQ4jIszmGLpEp1pRDfXDnWQVJiI.jpg',),\n",
       "  ('https://b.thumbs.redditmedia.com/IXyMbeH3Gd1YCY8CoVcVKYv9xjvc3WrYaQ24W47Q9uQ.jpg',),\n",
       "  ('https://b.thumbs.redditmedia.com/zrjdSWA3PX-WapUuUCBJKt78k4HQsLE3BQVUbJaJqss.jpg',),\n",
       "  ('https://b.thumbs.redditmedia.com/XW44mHdMeWwliSHH6sxkAwE0Ilg-ui3SPazGf-trdBk.jpg',),\n",
       "  ('https://a.thumbs.redditmedia.com/x5aNysQlsXkWS2y4VfiXVIix2zx1r-85O7Ft-n22-84.jpg',),\n",
       "  ('https://b.thumbs.redditmedia.com/AjXQyblv4azHzIuDuWxJeipZz5S05ha6bqWkC-cBa8U.jpg',),\n",
       "  ('https://b.thumbs.redditmedia.com/OArlUFZ9xfRRC70UTCN7JqC6oDz47zFintQLU53qcdM.jpg',),\n",
       "  ('https://b.thumbs.redditmedia.com/XfbZv2Lvc8w9cOLQ2h7SlHMwEiSdE685Hoxof5-W4vw.jpg',),\n",
       "  ('https://b.thumbs.redditmedia.com/t1xyjilBU-s3Zv6wulIUyvV7eccfMijHCSX6f1moJtQ.jpg',),\n",
       "  ('https://b.thumbs.redditmedia.com/eJfKFAPe-Lz8_CBjojUd2iK4A6uoGWeOZfkpMElOqnk.jpg',),\n",
       "  ('https://b.thumbs.redditmedia.com/0TlJ-rDOxfKaoWvyoxAOKZTfhas6ryFIkdVY_Xvw2IE.jpg',),\n",
       "  ('https://b.thumbs.redditmedia.com/mzklrx3g1NxUCIUjAu6k9k4RUDs0kSprYXRwTN9x6Kk.jpg',),\n",
       "  ('https://b.thumbs.redditmedia.com/gcZ7RKpgMGrLJHiDqg6kSBEV3wXXBdrgv9VvlLGpdiE.jpg',),\n",
       "  ('https://b.thumbs.redditmedia.com/vHahnV3i6xGulnXXOZ_HyJ_VlIT-_LrHX5RY9c8_8yk.jpg',),\n",
       "  ('https://b.thumbs.redditmedia.com/Tf9QVrsSWhJBgpT1TdsaR8_LKpQPOHKoE8391nyQvqA.jpg',)])"
      ]
     },
     "execution_count": 11,
     "metadata": {},
     "output_type": "execute_result"
    }
   ],
   "source": [
    "import psycopg2\n",
    "def all_data():\n",
    "    conn = psycopg2.connect(\n",
    "        dbname = \"Tech Feed\",\n",
    "        user = \"postgres\",\n",
    "        password = \"drezoz1234\",\n",
    "        host = \"localhost\"\n",
    "    )\n",
    "    cur = conn.cursor()\n",
    "    cur.execute(\"Select article FROM article_data\")\n",
    "    all_article = cur.fetchall()\n",
    "    cur.execute(\"Select image FROM article_data\")\n",
    "    all_img = cur.fetchall()\n",
    "    conn.close() \n",
    "    all_data = all_article, all_img\n",
    "    return all_data\n",
    "\n",
    "all_data()"
   ]
  },
  {
   "cell_type": "code",
   "execution_count": 7,
   "metadata": {},
   "outputs": [
    {
     "ename": "OperationalError",
     "evalue": "FATAL:  password authentication failed for user \"postgres\"\n",
     "output_type": "error",
     "traceback": [
      "\u001b[1;31m---------------------------------------------------------------------------\u001b[0m",
      "\u001b[1;31mOperationalError\u001b[0m                          Traceback (most recent call last)",
      "\u001b[1;32m<ipython-input-7-45ec5bf66fac>\u001b[0m in \u001b[0;36m<module>\u001b[1;34m\u001b[0m\n\u001b[1;32m----> 1\u001b[1;33m \u001b[0mall_data\u001b[0m\u001b[1;33m(\u001b[0m\u001b[1;33m)\u001b[0m\u001b[1;33m\u001b[0m\u001b[1;33m\u001b[0m\u001b[0m\n\u001b[0m",
      "\u001b[1;32m<ipython-input-4-e68b8099a400>\u001b[0m in \u001b[0;36mall_data\u001b[1;34m()\u001b[0m\n\u001b[0;32m      1\u001b[0m \u001b[1;32mdef\u001b[0m \u001b[0mall_data\u001b[0m\u001b[1;33m(\u001b[0m\u001b[1;33m)\u001b[0m\u001b[1;33m:\u001b[0m\u001b[1;33m\u001b[0m\u001b[1;33m\u001b[0m\u001b[0m\n\u001b[1;32m----> 2\u001b[1;33m     conn = psycopg2.connect(\n\u001b[0m\u001b[0;32m      3\u001b[0m         \u001b[0mdbname\u001b[0m \u001b[1;33m=\u001b[0m \u001b[1;34m\"Tech Feed\"\u001b[0m\u001b[1;33m,\u001b[0m\u001b[1;33m\u001b[0m\u001b[1;33m\u001b[0m\u001b[0m\n\u001b[0;32m      4\u001b[0m         \u001b[0muser\u001b[0m \u001b[1;33m=\u001b[0m \u001b[1;34m\"postgres\"\u001b[0m\u001b[1;33m,\u001b[0m\u001b[1;33m\u001b[0m\u001b[1;33m\u001b[0m\u001b[0m\n\u001b[0;32m      5\u001b[0m         \u001b[0mpassword\u001b[0m \u001b[1;33m=\u001b[0m \u001b[1;34m\"drezozweb1234\"\u001b[0m\u001b[1;33m,\u001b[0m\u001b[1;33m\u001b[0m\u001b[1;33m\u001b[0m\u001b[0m\n",
      "\u001b[1;32mc:\\python38\\lib\\site-packages\\psycopg2\\__init__.py\u001b[0m in \u001b[0;36mconnect\u001b[1;34m(dsn, connection_factory, cursor_factory, **kwargs)\u001b[0m\n\u001b[0;32m    125\u001b[0m \u001b[1;33m\u001b[0m\u001b[0m\n\u001b[0;32m    126\u001b[0m     \u001b[0mdsn\u001b[0m \u001b[1;33m=\u001b[0m \u001b[0m_ext\u001b[0m\u001b[1;33m.\u001b[0m\u001b[0mmake_dsn\u001b[0m\u001b[1;33m(\u001b[0m\u001b[0mdsn\u001b[0m\u001b[1;33m,\u001b[0m \u001b[1;33m**\u001b[0m\u001b[0mkwargs\u001b[0m\u001b[1;33m)\u001b[0m\u001b[1;33m\u001b[0m\u001b[1;33m\u001b[0m\u001b[0m\n\u001b[1;32m--> 127\u001b[1;33m     \u001b[0mconn\u001b[0m \u001b[1;33m=\u001b[0m \u001b[0m_connect\u001b[0m\u001b[1;33m(\u001b[0m\u001b[0mdsn\u001b[0m\u001b[1;33m,\u001b[0m \u001b[0mconnection_factory\u001b[0m\u001b[1;33m=\u001b[0m\u001b[0mconnection_factory\u001b[0m\u001b[1;33m,\u001b[0m \u001b[1;33m**\u001b[0m\u001b[0mkwasync\u001b[0m\u001b[1;33m)\u001b[0m\u001b[1;33m\u001b[0m\u001b[1;33m\u001b[0m\u001b[0m\n\u001b[0m\u001b[0;32m    128\u001b[0m     \u001b[1;32mif\u001b[0m \u001b[0mcursor_factory\u001b[0m \u001b[1;32mis\u001b[0m \u001b[1;32mnot\u001b[0m \u001b[1;32mNone\u001b[0m\u001b[1;33m:\u001b[0m\u001b[1;33m\u001b[0m\u001b[1;33m\u001b[0m\u001b[0m\n\u001b[0;32m    129\u001b[0m         \u001b[0mconn\u001b[0m\u001b[1;33m.\u001b[0m\u001b[0mcursor_factory\u001b[0m \u001b[1;33m=\u001b[0m \u001b[0mcursor_factory\u001b[0m\u001b[1;33m\u001b[0m\u001b[1;33m\u001b[0m\u001b[0m\n",
      "\u001b[1;31mOperationalError\u001b[0m: FATAL:  password authentication failed for user \"postgres\"\n"
     ]
    }
   ],
   "source": [
    "all_data()"
   ]
  }
 ],
 "metadata": {
  "kernelspec": {
   "display_name": "Python 3",
   "language": "python",
   "name": "python3"
  },
  "language_info": {
   "codemirror_mode": {
    "name": "ipython",
    "version": 3
   },
   "file_extension": ".py",
   "mimetype": "text/x-python",
   "name": "python",
   "nbconvert_exporter": "python",
   "pygments_lexer": "ipython3",
   "version": "3.8.2"
  }
 },
 "nbformat": 4,
 "nbformat_minor": 4
}
